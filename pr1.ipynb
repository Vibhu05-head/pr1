{
 "cells": [
  {
   "cell_type": "code",
   "execution_count": 3,
   "id": "85909900-0f47-4fe7-800a-c2167f34eb76",
   "metadata": {},
   "outputs": [
    {
     "name": "stdin",
     "output_type": "stream",
     "text": [
      "Enter target IP:  192.168.43.240\n"
     ]
    },
    {
     "name": "stdout",
     "output_type": "stream",
     "text": [
      "[*] Scanning 192.168.43.240 from port 1 to 1024...\n",
      "\n",
      "[+] Port 135 (Unknown) is open.\n",
      "[+] Port 139 (Unknown) is open.\n",
      "[+] Port 445 (Unknown) is open.\n",
      "    No banner received.\n",
      "    No banner received.\n",
      "    No banner received.\n",
      "\n",
      "[*] Scan complete.\n"
     ]
    }
   ],
   "source": [
    "import socket\n",
    "import threading\n",
    "\n",
    "start_port = 1\n",
    "end_port = 1024\n",
    "known_ports = {\n",
    "    21: \"FTP\",\n",
    "    22: \"SSH\",\n",
    "    23: \"Telnet\",\n",
    "    25: \"SMTP\",\n",
    "    53: \"DNS\",\n",
    "    80: \"HTTP\",\n",
    "    110: \"POP3\",\n",
    "    143: \"IMAP\",\n",
    "    443: \"HTTPS\",\n",
    "    3306: \"MySQL\",\n",
    "    3389: \"RDP\",\n",
    "}\n",
    "\n",
    "def banner_grab(ip, port):\n",
    "    try:\n",
    "        s = socket.socket()\n",
    "        s.settimeout(2)\n",
    "        s.connect((ip, port))\n",
    "        banner = s.recv(1024).decode(errors='ignore').strip()\n",
    "        s.close()\n",
    "        return banner\n",
    "    except:\n",
    "        return \"\"\n",
    "\n",
    "def scan_port(ip, port):\n",
    "    try:\n",
    "        s = socket.socket()\n",
    "        s.settimeout(1)\n",
    "        s.connect((ip, port))\n",
    "        s.close()\n",
    "\n",
    "        service = known_ports.get(port, \"Unknown\")\n",
    "        print(f\"[+] Port {port} ({service}) is open.\")\n",
    "        \n",
    "        banner = banner_grab(ip, port)\n",
    "        if banner:\n",
    "            print(f\"    Banner: {banner}\")\n",
    "        else:\n",
    "            print(f\"    No banner received.\")\n",
    "    except:\n",
    "        pass  \n",
    "def run_scanner(ip):\n",
    "    print(f\"[*] Scanning {ip} from port {start_port} to {end_port}...\\n\")\n",
    "    threads = []\n",
    "    for port in range(start_port, end_port + 1):\n",
    "        t = threading.Thread(target=scan_port, args=(ip, port))\n",
    "        threads.append(t)\n",
    "        t.start()\n",
    "    for t in threads:\n",
    "        t.join()\n",
    "    print(\"\\n[*] Scan complete.\")\n",
    "\n",
    "if __name__ == \"__main__\":\n",
    "    target_ip = input(\"Enter target IP: \").strip()\n",
    "    run_scanner(target_ip)\n"
   ]
  },
  {
   "cell_type": "code",
   "execution_count": null,
   "id": "e7dfd56b-3707-4433-a7b8-b34490ff322d",
   "metadata": {},
   "outputs": [],
   "source": []
  }
 ],
 "metadata": {
  "kernelspec": {
   "display_name": "Python 3 (ipykernel)",
   "language": "python",
   "name": "python3"
  },
  "language_info": {
   "codemirror_mode": {
    "name": "ipython",
    "version": 3
   },
   "file_extension": ".py",
   "mimetype": "text/x-python",
   "name": "python",
   "nbconvert_exporter": "python",
   "pygments_lexer": "ipython3",
   "version": "3.13.2"
  }
 },
 "nbformat": 4,
 "nbformat_minor": 5
}
